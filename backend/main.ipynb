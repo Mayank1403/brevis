{
 "cells": [
  {
   "cell_type": "code",
   "execution_count": 9,
   "metadata": {},
   "outputs": [
    {
     "name": "stdout",
     "output_type": "stream",
     "text": [
      "Enter the URL = https://www.youtube.com/watch?v=I9ceqw5Ny-4\n",
      "Transcription Done!!\n",
      "\n",
      "Keywords:\n",
      " ['app', 'android', 'widget', 'screen', 'ios', 'flutter', 'size', 'i', 'this', 'device', 'button', 'that', 'bob', 'different', 'developer']\n",
      "Enter the percentage of information in text you want as summary : 10\n",
      "\n",
      "Summary:\n",
      " and it comes with a whole bunch of pre-built widgets that make it easy to layout your app so straightforward things such as laying out your app with rows or with columns or stacks andso this means that instead of having to make iOS apps the Apple way and make Android apps the Android way you can simply use a whole bunch of pre-built widgets from flutter such as a floating action button or a linear progress indicatorand they've even design widgets that look the part for each platform so for example the alerts might look like this on your Android appbut you can also specify that if your app is being run on iOS then they should look like this making your app look like it was created in a native wayand this is a pre-built widget which is built by flutter and as soon as I hit save my app bar gets painted onto the screenif you wanted a floating action button then we just create that widget and we can customize it by changing its properties such as the background color or what should go inside it piece by piece widget by widgets I can build up my app and customize it to my liking very few lines of code now what if I wanted some functionalityand then all that happens is when the user presses on the read button then it will increase the number of donuts that I've eaten and flutter makes it incredibly easy to build a beautiful interface for our app using these widgets as well as allowing us to customize the widgets to our liking and finally building functionality on top of those widgets is also as simple as updating a number of variables and that we're gonna dive into so now that I've created my donut\n"
     ]
    }
   ],
   "source": [
    "from youtube_transcription import youtube_transcribe\n",
    "from keywords_extractor import get_keywords\n",
    "from summary_generator import summary\n",
    "import io\n",
    "\n",
    "if __name__ == '__main__':\n",
    "    # Transcription\n",
    "    url = input(\"Enter the URL = \")\n",
    "\n",
    "    number_of_transciptions,transcripts = youtube_transcribe(url)\n",
    "\n",
    "    if number_of_transciptions:\n",
    "        with io.open(\"transcript.txt\", \"w\", encoding=\"utf-8\") as f:\n",
    "            text = transcripts[0]\n",
    "            f.write(transcripts[0])\n",
    "            print(\"Transcription Done!!\")\n",
    "    else:\n",
    "        print(\"No Transcript Available\")\n",
    "\n",
    "    # Keywords Extractor\n",
    "    keywords=get_keywords(text,15)\n",
    "    print('\\nKeywords:\\n',keywords)\n",
    "\n",
    "    # Summarization\n",
    "    percentage=int(input(\"Enter the percentage of information in text you want as summary : \"))\n",
    "    result = summary(text,percentage)\n",
    "    print('\\nSummary:\\n',result)"
   ]
  },
  {
   "cell_type": "code",
   "execution_count": null,
   "metadata": {},
   "outputs": [],
   "source": []
  }
 ],
 "metadata": {
  "kernelspec": {
   "display_name": "Python [conda env:brevis] *",
   "language": "python",
   "name": "conda-env-brevis-py"
  },
  "language_info": {
   "codemirror_mode": {
    "name": "ipython",
    "version": 3
   },
   "file_extension": ".py",
   "mimetype": "text/x-python",
   "name": "python",
   "nbconvert_exporter": "python",
   "pygments_lexer": "ipython3",
   "version": "3.6.10"
  }
 },
 "nbformat": 4,
 "nbformat_minor": 4
}
