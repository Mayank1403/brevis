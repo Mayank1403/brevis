{
  "nbformat": 4,
  "nbformat_minor": 0,
  "metadata": {
    "colab": {
      "name": "YOUTUBE_TRANSCRIPTION",
      "provenance": [],
      "collapsed_sections": []
    },
    "kernelspec": {
      "name": "python3",
      "display_name": "Python 3"
    }
  },
  "cells": [
    {
      "cell_type": "code",
      "metadata": {
        "id": "tH6FfnjSkmuX",
        "colab_type": "code",
        "outputId": "b34e294d-ebcd-4619-ca60-6bcb276cbb87",
        "colab": {
          "base_uri": "https://localhost:8080/",
          "height": 141
        }
      },
      "source": [
        "# Install the required modules\n",
        "# !pip install youtube-transcript-api"
      ],
      "execution_count": 0,
      "outputs": [
        {
          "output_type": "stream",
          "text": [
            "Requirement already satisfied: youtube-transcript-api in /usr/local/lib/python3.6/dist-packages (0.3.1)\n",
            "Requirement already satisfied: requests in /usr/local/lib/python3.6/dist-packages (from youtube-transcript-api) (2.23.0)\n",
            "Requirement already satisfied: urllib3!=1.25.0,!=1.25.1,<1.26,>=1.21.1 in /usr/local/lib/python3.6/dist-packages (from requests->youtube-transcript-api) (1.24.3)\n",
            "Requirement already satisfied: certifi>=2017.4.17 in /usr/local/lib/python3.6/dist-packages (from requests->youtube-transcript-api) (2020.4.5.1)\n",
            "Requirement already satisfied: idna<3,>=2.5 in /usr/local/lib/python3.6/dist-packages (from requests->youtube-transcript-api) (2.9)\n",
            "Requirement already satisfied: chardet<4,>=3.0.2 in /usr/local/lib/python3.6/dist-packages (from requests->youtube-transcript-api) (3.0.4)\n"
          ],
          "name": "stdout"
        }
      ]
    },
    {
      "cell_type": "code",
      "metadata": {
        "id": "TwxM7PyZkrys",
        "colab_type": "code",
        "colab": {}
      },
      "source": [
        "# Import Modules\n",
        "from youtube_transcript_api import YouTubeTranscriptApi\n",
        "import requests\n",
        "from bs4 import BeautifulSoup as bs\n",
        "from urllib import parse"
      ],
      "execution_count": 0,
      "outputs": []
    },
    {
      "cell_type": "code",
      "metadata": {
        "id": "Acm3N9k-uabN",
        "colab_type": "code",
        "colab": {}
      },
      "source": [
        "def get_video_info(url):\n",
        "    # download HTML code\n",
        "    content = requests.get(url)\n",
        "    # create beautiful soup object to parse HTML\n",
        "    soup = bs(content.content, \"html.parser\")\n",
        "    # initialize the result\n",
        "    result = {}\n",
        "    # video title\n",
        "    result['title'] = soup.find(\"span\", attrs={\"class\": \"watch-title\"}).text.strip()\n",
        "     # video views (converted to integer)\n",
        "    result['views'] = int(soup.find(\"div\", attrs={\"class\": \"watch-view-count\"}).text[:-6].replace(\",\", \"\"))\n",
        "    # video description\n",
        "    result['description'] = soup.find(\"p\", attrs={\"id\": \"eow-description\"}).text\n",
        "    # date published\n",
        "    result['date_published'] = soup.find(\"strong\", attrs={\"class\": \"watch-time-text\"}).text\n",
        "     # number of likes as integer\n",
        "    result['likes'] = int(soup.find(\"button\", attrs={\"title\": \"I like this\"}).text.replace(\",\", \"\"))\n",
        "    # number of dislikes as integer\n",
        "    result['dislikes'] = int(soup.find(\"button\", attrs={\"title\": \"I dislike this\"}).text.replace(\",\", \"\"))\n",
        "     # channel details\n",
        "    channel_tag = soup.find(\"div\", attrs={\"class\": \"yt-user-info\"}).find(\"a\")\n",
        "    # channel name\n",
        "    channel_name = channel_tag.text\n",
        "    # channel URL\n",
        "    channel_url = f\"https://www.youtube.com{channel_tag['href']}\"\n",
        "    # number of subscribers as str\n",
        "    channel_subscribers = soup.find(\"span\", attrs={\"class\": \"yt-subscriber-count\"}).text.strip()\n",
        "    result['channel'] = {'name': channel_name, 'url': channel_url, 'subscribers': channel_subscribers}\n",
        "    # return the result\n",
        "    \n",
        "    res = (f\"Title: {data['title']}\" + '\\n'\n",
        "           f\"Views: {data['views']}\" + '\\n'\n",
        "           f\"\\nDescription: {data['description']}\\n\" + '\\n'\n",
        "           f\"{data['date_published']}\" + '\\n'\n",
        "           f\"Likes: {data['likes']}\" + '\\n'\n",
        "           f\"Dislikes: {data['dislikes']}\" + '\\n'\n",
        "           f\"\\nChannel Name: {data['channel']['name']}\" + '\\n'\n",
        "           f\"Channel URL: {data['channel']['url']}\" + '\\n'\n",
        "           f\"Channel Subscribers: {data['channel']['subscribers']}\" + '\\n')\n",
        "\n",
        "    return result,res.strip()\n",
        "\n",
        "# If you want to print individual fields, uncomment them\n",
        "\n",
        "# data,res = get_video_info(url)\n",
        "# print(f\"Title: {data['title']}\")\n",
        "# print(f\"Views: {data['views']}\")\n",
        "# print(f\"\\nDescription: {data['description']}\\n\")\n",
        "# print(data['date_published'])\n",
        "# print(f\"Likes: {data['likes']}\")\n",
        "# print(f\"Dislikes: {data['dislikes']}\")\n",
        "# print(f\"\\nChannel Name: {data['channel']['name']}\")\n",
        "# print(f\"Channel URL: {data['channel']['url']}\")\n",
        "# print(f\"Channel Subscribers: {data['channel']['subscribers']}\")"
      ],
      "execution_count": 0,
      "outputs": []
    },
    {
      "cell_type": "code",
      "metadata": {
        "id": "SMc1bFgWlbsC",
        "colab_type": "code",
        "colab": {}
      },
      "source": [
        "def youtube_transcribe(url,descp=False):\n",
        "  try:\n",
        "    parse.urlsplit(url)\n",
        "    parse.parse_qs(parse.urlsplit(url).query)\n",
        "    url_id = dict(parse.parse_qsl(parse.urlsplit(url).query))['v']\n",
        "\n",
        "    available_transcript = list(YouTubeTranscriptApi.list_transcripts(url_id))\n",
        "\n",
        "    transcript = []\n",
        "    for i in available_transcript:\n",
        "      if i.language_code == 'en':\n",
        "        res = ''\n",
        "        for j in i.fetch():\n",
        "          res = res + j['text'] +' '\n",
        "        transcript.append(res)\n",
        "\n",
        "    if(descp):\n",
        "      data,res = get_video_info(url)\n",
        "      print(\"Video Description:\\n\\n\",res)\n",
        "    \n",
        "    return len(transcript),transcript\n",
        "\n",
        "  except:\n",
        "    return 0,[0]"
      ],
      "execution_count": 0,
      "outputs": []
    },
    {
      "cell_type": "code",
      "metadata": {
        "id": "COKsDWg80cjo",
        "colab_type": "code",
        "outputId": "c3bd7880-1157-44d4-9d50-5e7449eac176",
        "colab": {
          "base_uri": "https://localhost:8080/",
          "height": 69
        }
      },
      "source": [
        "url = input(\"Enter the URL = \")\n",
        "\n",
        "# Function youtube_transcribe\n",
        "# Input : url, optional arg -> descp \n",
        "#         decsp : Provides description of YouTube Video : bool\n",
        "# Output : number of transcriptions available and transcriptions\n",
        "\n",
        "number_of_transciptions,transcripts = youtube_transcribe(url)\n",
        "\n",
        "print('\\nNumber of transcript =',number_of_transciptions)\n",
        "\n",
        "for i in range(number_of_transciptions):\n",
        "  print('\\nTranscript Number =',i+1,'\\n\\n',transcripts[i],'\\n\\n')"
      ],
      "execution_count": 128,
      "outputs": [
        {
          "output_type": "stream",
          "text": [
            "Enter the URL = https://www.youtube.com/watch?v=Bv_5Zv5c-Ts&t=1836s\n",
            "\n",
            "Number of transcript = 0\n"
          ],
          "name": "stdout"
        }
      ]
    },
    {
      "cell_type": "code",
      "metadata": {
        "id": "Z--wLtg0LGmD",
        "colab_type": "code",
        "colab": {}
      },
      "source": [
        ""
      ],
      "execution_count": 0,
      "outputs": []
    }
  ]
}